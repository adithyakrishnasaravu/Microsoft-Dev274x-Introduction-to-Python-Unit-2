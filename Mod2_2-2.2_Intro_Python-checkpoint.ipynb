{
  "cells": [
    {
      "metadata": {},
      "cell_type": "markdown",
      "source": "# 2-2.2 Intro Python\n## Lists \n- List Creation\n- List Access\n- **List Append**\n- List Insert\n- List Delete\n\n----- \n\n><font size=\"5\" color=\"#00A0B2\"  face=\"verdana\"> <B>Student will be able to</B></font>  \n- Create Lists\n- Access items in a list\n- **Add Items to the end of a list**\n- Insert items into a list\n- Delete items from a list"
    },
    {
      "metadata": {},
      "cell_type": "markdown",
      "source": "# &nbsp;\n<font size=\"6\" color=\"#00A0B2\"  face=\"verdana\"> <B>Concepts</B></font>\n## Appending to Lists\n[![view video](https://iajupyterprodblobs.blob.core.windows.net/imagecontainer/common/play_video.png)]( http://edxinteractivepage.blob.core.windows.net/edxpages/f7cff1a7-5601-48a1-95a6-fd1fdfabd20e.html?details=[{\"src\":\"http://jupyternootbookwams.streaming.mediaservices.windows.net/121939c6-f81e-4787-a7a9-15ab15c69168/Unit2_Section2.2a-Appending_to_Lists.ism/manifest\",\"type\":\"application/vnd.ms-sstr+xml\"}],[{\"src\":\"http://jupyternootbookwams.streaming.mediaservices.windows.net/121939c6-f81e-4787-a7a9-15ab15c69168/Unit2_Section2.2a-Appending_to_Lists.vtt\",\"srclang\":\"en\",\"kind\":\"subtitles\",\"label\":\"english\"}])\n**`.append()`** method adds an item to the end of a list   \n```python\nparty_list.append(\"Alton\")\n```"
    },
    {
      "metadata": {},
      "cell_type": "markdown",
      "source": "# &nbsp;\n<font size=\"6\" color=\"#00A0B2\"  face=\"verdana\"> <B>Examples</B></font>"
    },
    {
      "metadata": {
        "trusted": true
      },
      "cell_type": "code",
      "source": "# [ ] review and run example\n# the list before append\nsample_list = [1, 1, 2]\nprint(\"sample_list before: \", sample_list)\n\nsample_list.append(3)\n# the list after append\nprint(\"sample_list after:  \", sample_list)",
      "execution_count": 8,
      "outputs": [
        {
          "output_type": "stream",
          "text": "sample_list before:  [1, 1, 2]\nsample_list after:   [1, 1, 2, 3]\n",
          "name": "stdout"
        }
      ]
    },
    {
      "metadata": {
        "trusted": true
      },
      "cell_type": "code",
      "source": "# [ ] review and run example\n# append number to sample_list\nprint(\"sample_list start:  \", sample_list)\nsample_list.append(3)\nprint(\"sample_list added:  \", sample_list)\n\n# append again\nsample_list.append(8)\nprint(\"sample_list added:  \", sample_list)\n\n# append again\nsample_list.append(5)\nprint(\"sample_list added:  \", sample_list)\n\n# [ ] run this cell several times in a row \n# [ ] run cell above, then run this cell again",
      "execution_count": 9,
      "outputs": [
        {
          "output_type": "stream",
          "text": "sample_list start:   [1, 1, 2, 3]\nsample_list added:   [1, 1, 2, 3, 3]\nsample_list added:   [1, 1, 2, 3, 3, 8]\nsample_list added:   [1, 1, 2, 3, 3, 8, 5]\n",
          "name": "stdout"
        }
      ]
    },
    {
      "metadata": {
        "trusted": true
      },
      "cell_type": "code",
      "source": "# [ ] review and run example\nmixed_types = [1, \"cat\"]\n# append number\nmixed_types.append(3)\nprint(\"mixed_types list: \", mixed_types)\n\n# append string\nmixed_types.append(\"turtle\")\nprint(\"mixed_types list: \", mixed_types)",
      "execution_count": 10,
      "outputs": [
        {
          "output_type": "stream",
          "text": "mixed_types list:  [1, 'cat', 3]\nmixed_types list:  [1, 'cat', 3, 'turtle']\n",
          "name": "stdout"
        }
      ]
    },
    {
      "metadata": {
        "collapsed": true
      },
      "cell_type": "markdown",
      "source": "# &nbsp;\n<font size=\"6\" color=\"#B24C00\"  face=\"verdana\"> <B>Task 1</B></font>\n\n## `.append()`"
    },
    {
      "metadata": {
        "trusted": true
      },
      "cell_type": "code",
      "source": "# Currency Values\n# [ ] create a list of 3 or more currency denomination values, cur_values\ncur_values=[\"10\",\"50\",\"200\"]\n# cur_values, contains values of coins and paper bills (.01, .05, etc.)\ncur_values.append(\"0.01\")\ncur_values.append(\"0.05\")\n\n\n# [ ] print the list\nprint(cur_values)\n# [ ] append an item to the list and print the list\n \n",
      "execution_count": 12,
      "outputs": [
        {
          "output_type": "stream",
          "text": "['10', '50', '200', '0.01', '0.05']\n",
          "name": "stdout"
        }
      ]
    },
    {
      "metadata": {
        "trusted": true
      },
      "cell_type": "code",
      "source": "# Currency Names\n# [ ] create a list of 3 or more currency denomination NAMES, cur_names\n# cur_names contains the NAMES of coins and paper bills (penny, etc.)\ncur_names=[\"penny\",\"coin\",\"note\",\"plastic cards\"]\n# [ ] print the list\nprint(cur_names)\n\n# [ ] append an item to the list and print the list\ncur_names.append(\"Net Banking\")\nprint(cur_names)\n",
      "execution_count": 17,
      "outputs": [
        {
          "output_type": "stream",
          "text": "['penny', 'coin', 'note', 'plastic cards']\n['penny', 'coin', 'note', 'plastic cards', 'Net Banking']\n",
          "name": "stdout"
        }
      ]
    },
    {
      "metadata": {
        "collapsed": true
      },
      "cell_type": "markdown",
      "source": "# &nbsp;\n<font size=\"6\" color=\"#B24C00\"  face=\"verdana\"> <B>Task 2</B></font>  \n## Append items to a list with `input()` "
    },
    {
      "metadata": {
        "trusted": true
      },
      "cell_type": "code",
      "source": "# [ ] append additional values to the Currency Names list using input()\nd=input()\ncur_names.append(d)\n# [ ] print the appended list\nprint(cur_names)\n",
      "execution_count": 18,
      "outputs": [
        {
          "output_type": "stream",
          "name": "stdout",
          "text": "debit card\n['penny', 'coin', 'note', 'plastic cards', 'Net Banking', 'debit card']\n"
        }
      ]
    },
    {
      "metadata": {},
      "cell_type": "markdown",
      "source": "# &nbsp;\n<font size=\"6\" color=\"#B24C00\"  face=\"verdana\"> <B>Task 3</B></font>\n## `while` loop `.append()`\n- define an empty list: **`bday_survey`**  \n- get user input, **`bday`**, asking for the day of the month they were born (1-31) or \"q\" to finish  \n- using a **`while`** loop  (while user not entering \"quit\")\n  - append the **`bday`** input to the **`bday_survey`** list  \n  - get user input, **`bday`**, asking for the day of the month they were born (1-31) or \"q\" to finish    \n- print bday_survey list  \n"
    },
    {
      "metadata": {
        "trusted": true
      },
      "cell_type": "code",
      "source": "# [ ] complete the Birthday Survey task above\nbday_survey=[]\nbday=input(\"Which day of the month were you born???(1-31) or 'q' to end/quit.\")\nwhile bday!='q':\n    bday_survey.append(bday)\n    bday=input(\"Which day of the month were you born???(1-31) or 'q' to end/quit.\")\nprint(bday_survey)\n    \n\n\n",
      "execution_count": 19,
      "outputs": [
        {
          "output_type": "stream",
          "name": "stdout",
          "text": "Which day of the month were you born???(1-31) or 'q' to end/quit.5\nWhich day of the month were you born???(1-31) or 'q' to end/quit.26\nWhich day of the month were you born???(1-31) or 'q' to end/quit.q\n['5', '26']\n"
        }
      ]
    },
    {
      "metadata": {},
      "cell_type": "markdown",
      "source": "# &nbsp;\n<font size=\"6\" color=\"#B24C00\"  face=\"verdana\"> <B>Task 4</B></font>\n## Fix The Error\n"
    },
    {
      "metadata": {
        "trusted": true
      },
      "cell_type": "code",
      "source": "# [ ] Fix the Error\nthree_numbers = [1, 1, 2]\nprint(\"an item in the list is: \", three_numbers[2])\n\n",
      "execution_count": 20,
      "outputs": [
        {
          "output_type": "stream",
          "text": "an item in the list is:  2\n",
          "name": "stdout"
        }
      ]
    },
    {
      "metadata": {},
      "cell_type": "markdown",
      "source": "[Terms of use](http://go.microsoft.com/fwlink/?LinkID=206977) &nbsp; [Privacy & cookies](https://go.microsoft.com/fwlink/?LinkId=521839) &nbsp; © 2017 Microsoft"
    }
  ],
  "metadata": {
    "anaconda-cloud": {},
    "kernelspec": {
      "name": "python3",
      "display_name": "Python 3",
      "language": "python"
    },
    "language_info": {
      "mimetype": "text/x-python",
      "nbconvert_exporter": "python",
      "name": "python",
      "pygments_lexer": "ipython3",
      "version": "3.5.4",
      "file_extension": ".py",
      "codemirror_mode": {
        "version": 3,
        "name": "ipython"
      }
    }
  },
  "nbformat": 4,
  "nbformat_minor": 1
}