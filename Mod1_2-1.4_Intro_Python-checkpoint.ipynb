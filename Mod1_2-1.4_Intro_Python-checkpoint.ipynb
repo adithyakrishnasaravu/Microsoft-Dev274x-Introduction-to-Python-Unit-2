{
  "cells": [
    {
      "metadata": {},
      "cell_type": "markdown",
      "source": "# 2-1.4 Intro Python\n## Sequence: String\n- Accessing String Character with index\n- Accessing sub-strings with index slicing\n- Iterating through Characters of a String\n- **More String Methods**\n\n----- \n\n><font size=\"5\" color=\"#00A0B2\"  face=\"verdana\"> <B>Student will be able to</B></font>  \n- Work with String Characters\n- Slice strings into substrings\n- Iterate through String Characters\n- **Use String ~~Tricks~~ Methods**\n  - `len()`\n  - `.count()`\n  - `.find()`"
    },
    {
      "metadata": {},
      "cell_type": "markdown",
      "source": "# &nbsp;\n<font size=\"6\" color=\"#00A0B2\"  face=\"verdana\"> <B>Concepts</B></font>\n## String Methods: return string information\n[![view video](https://iajupyterprodblobs.blob.core.windows.net/imagecontainer/common/play_video.png)]( http://edxinteractivepage.blob.core.windows.net/edxpages/f7cff1a7-5601-48a1-95a6-fd1fdfabd20e.html?details=[{\"src\":\"http://jupyternootbookwams.streaming.mediaservices.windows.net/c300e46e-b3c7-4bbf-8117-e72b33998cd3/Unit2_Section1.4a-String_Methods-Length.ism/manifest\",\"type\":\"application/vnd.ms-sstr+xml\"}],[{\"src\":\"http://jupyternootbookwams.streaming.mediaservices.windows.net/c300e46e-b3c7-4bbf-8117-e72b33998cd3/Unit2_Section1.4a-String_Methods-Length.vtt\",\"srclang\":\"en\",\"kind\":\"subtitles\",\"label\":\"english\"}])\n### len()  \nreturns a strings length  \n### .count()  \nreturns number of times a character or sub-string occur  \n### .find()   \nreturns index of first character or sub-string match  \nreturns **-1** if no match found  \n\n```python\nwork_tip = \"save your code\"\n\n# number of characters\nlen(work_tip)\n\n# letter \"e\" occurrences\nwork_tip.count(\"e\")\n\n# find the index of the first space\nwork_tip.find(\" \")\n\n# find the index of \"u\" searching a slice work_tip[3:6]\nwork_tip.find(\"u\",3,6)\n```  \nThese methods **return** information that we can use to sort or manipulate strings"
    },
    {
      "metadata": {},
      "cell_type": "markdown",
      "source": "# &nbsp;\n<font size=\"6\" color=\"#00A0B2\"  face=\"verdana\"> <B>Examples</B></font>  \nrun each example cell in order"
    },
    {
      "metadata": {
        "trusted": true
      },
      "cell_type": "code",
      "source": "# [ ] review and run example\nwork_tip = \"save your code\"\n\nprint(\"number of characters in string\")\nprint(len(work_tip),\"\\n\")\n\nprint('letter \"e\" occurrences')\nprint(work_tip.count(\"e\"),\"\\n\")\n\nprint(\"find the index of the first space\")\nprint(work_tip.find(\" \"),\"\\n\")\n\nprint('find the index of \"u\" searching a slice work_tip[3:9] -', work_tip[3:9])\nprint(work_tip.find(\"u\",3,9),\"\\n\")\n\nprint('find the index of \"e\" searching a slice work_tip[4:] -', work_tip[4:])\nprint(work_tip.find(\"e\",4))",
      "execution_count": null,
      "outputs": []
    },
    {
      "metadata": {},
      "cell_type": "markdown",
      "source": "### len()  \nreturns a strings length  "
    },
    {
      "metadata": {
        "trusted": true
      },
      "cell_type": "code",
      "source": "# [ ] review and run example\nwork_tip = \"good code is commented code\"\n\nprint(\"The sentence: \\\"\" + work_tip + \"\\\" has character length = \", len(work_tip) )",
      "execution_count": null,
      "outputs": []
    },
    {
      "metadata": {
        "trusted": true
      },
      "cell_type": "code",
      "source": "# [ ] review and run example\n# find the middle index\nwork_tip = \"good code is commented code\"\nmid_pt = int(len(work_tip)/2)\n\n# print 1st half of sentence\nprint(work_tip[:mid_pt])\n\n# print the 2nd half of sentence\nprint(work_tip[mid_pt:])\n\n# find the middle index\nprint(mid_pt)",
      "execution_count": null,
      "outputs": []
    },
    {
      "metadata": {},
      "cell_type": "markdown",
      "source": "### .count()  \nreturns number of times a character or sub-string occur   "
    },
    {
      "metadata": {
        "trusted": true
      },
      "cell_type": "code",
      "source": "# [ ] review and run example\nprint(work_tip)\nprint(\"how many w's? \", work_tip.count(\"w\"))\nprint(\"how many o's? \", work_tip.count(\"o\"))\nprint(\"uses 'code', how many times? \", work_tip.count(\"code\"))",
      "execution_count": null,
      "outputs": []
    },
    {
      "metadata": {
        "trusted": true
      },
      "cell_type": "code",
      "source": "# [ ] review and run example \nprint(work_tip[:mid_pt])\nprint(\"# o's in first half\")\nprint(work_tip[:mid_pt].count(\"o\"))\n\nprint()\nprint(work_tip[mid_pt:])\nprint(\"# o's in second half\")\nprint(work_tip[mid_pt:].count(\"o\"))",
      "execution_count": null,
      "outputs": []
    },
    {
      "metadata": {},
      "cell_type": "markdown",
      "source": "### .find(*string*) \nreturns index of first character or sub-string match  \nreturns **-1** if no match found\n#### .find(*string*, *start index*, *end index*)\nsame as above .find() but searches from optional start and to optional end index"
    },
    {
      "metadata": {
        "trusted": true
      },
      "cell_type": "code",
      "source": "# [ ] review and run example \nwork_tip = \"good code has meaningful variable names\"\nprint(work_tip)\n# index where first instance of \"code\" starts\ncode_here = work_tip.find(\"code\")\nprint(code_here, '= starting index for \"code\"')",
      "execution_count": null,
      "outputs": []
    },
    {
      "metadata": {
        "trusted": true
      },
      "cell_type": "code",
      "source": "# [ ] review and run example \n# set start index = 13 and end index = 33\nprint('search for \"meaning\" in the sub-string:', work_tip[13:33],\"\\n\")\nmeaning_here = work_tip.find(\"meaning\",13,33)\nprint('\"meaning\" found in work_tip[13:33] sub-string search at index', meaning_here)",
      "execution_count": null,
      "outputs": []
    },
    {
      "metadata": {
        "trusted": true
      },
      "cell_type": "code",
      "source": "# [ ] review and run example \n# if .find(\"o\") has No Match, -1 is returned\nprint (\"work_tip:\" , work_tip)\nlocation = work_tip.find(\"o\")\n\n# keeps looping until location = -1 (no \"o\" found)\nwhile location >= 0:\n    print(\"'o' at index =\", location)\n    # find(\"o\", location + 1) looks for a \"o\" after index the first \"o\" was found\n    location = work_tip.find(\"o\", location + 1)\nprint(\"no more o's\")",
      "execution_count": null,
      "outputs": []
    },
    {
      "metadata": {
        "collapsed": true
      },
      "cell_type": "markdown",
      "source": "# &nbsp;\n<font size=\"6\" color=\"#B24C00\"  face=\"verdana\"> <B>Task 1</B></font>\n\n## `len()`"
    },
    {
      "metadata": {
        "trusted": true
      },
      "cell_type": "code",
      "source": "random_tip = \"wear a hat when it rains\"\n# [ ] use len() to find the midpoint of the string \nmd_pt=int(len(random_tip)/2)\nprint(md_pt)\n# [ ] print the halves on separate lines\nprint(random_tip[:md_pt])\nprint(random_tip[md_pt:])\n\n\n",
      "execution_count": null,
      "outputs": []
    },
    {
      "metadata": {},
      "cell_type": "markdown",
      "source": "# &nbsp;\n<font size=\"6\" color=\"#B24C00\"  face=\"verdana\"> <B>Task 2</B></font>\n\n## `.count()`"
    },
    {
      "metadata": {
        "trusted": true
      },
      "cell_type": "code",
      "source": "random_tip = \"wear a hat when it rains\"\n# for letters: \"e\" and \"a\" in random_tip\ne_count=random_tip.count(\"e\")\na_count=random_tip.count(\"a\")\n# [ ] print letter counts \nprint(\"The letter count for the letter 'e' in 'random tip' is\",e_count)\nprint(\"The letter count for the letter 'a' in 'random tip' is\",a_count)\n# [ ] BONUS: print which letter is most frequent\nprint(e_count)\nprint(a_count)\n\nif e_count > a_count:\n    print(\"'e' is the most frequent letter.\")\nelse:\n    print(\"'a' is the most frequent letter.\")\n",
      "execution_count": null,
      "outputs": []
    },
    {
      "metadata": {
        "collapsed": true
      },
      "cell_type": "markdown",
      "source": "# &nbsp;\n<font size=\"6\" color=\"#B24C00\"  face=\"verdana\"> <B>Task 3</B></font>\n###  `.find()`"
    },
    {
      "metadata": {
        "trusted": true
      },
      "cell_type": "code",
      "source": "# [ ] print long_word from the location of the first and second \"t\"\nlong_word = \"juxtaposition\"\nt_index=long_word.find(\"t\")\n\nwhile t_index >= 0:\n        t_index=long_word.find(\"t\",t_index+1)\n    print(\"'t' is present in \",t_index )\n\n    print(long_word[])\n    \n\n",
      "execution_count": null,
      "outputs": []
    },
    {
      "metadata": {
        "trusted": true
      },
      "cell_type": "code",
      "source": "\n    ",
      "execution_count": null,
      "outputs": []
    },
    {
      "metadata": {
        "collapsed": true
      },
      "cell_type": "markdown",
      "source": "# &nbsp;\n<font size=\"6\" color=\"#B24C00\"  face=\"verdana\"> <B>Task 4</B></font>\n##  Program: print each word in a quote\n```python\nstart = 0\nspace_index = quote.find(\" \")\nwhile space_index != -1:\n    # code to print word (index slice start:space_index)\n```  \n\nOutput should look like below: \n```\nthey\nstumble\nwho\nrun\nfast\n```  "
    },
    {
      "metadata": {
        "trusted": true
      },
      "cell_type": "code",
      "source": "quote=\"they stumble who run fast \"\n# [ ] Print each word in the quote on a new line  \nstart=0\nspace_index=quote.find(\" \")\n#print(quote[start:space_index])\n    \nwhile space_index != -1:;\n        print(space_index)\n        start+=space_index\n        space_index=quote.find(\" \",space_index+2)\n        x=(quote[start+1:space_index])\n        print(x)  \n         \n        \n        \n    \n\n    ",
      "execution_count": 6,
      "outputs": [
        {
          "output_type": "stream",
          "text": "\n\n\n\n\n",
          "name": "stdout"
        }
      ]
    },
    {
      "metadata": {
        "trusted": true
      },
      "cell_type": "code",
      "source": "quote=\"they stumble who run fast \"\n# [ ] Print each word in the quote on a new line  \nspace_index=quote.find(\" \")\nprint(space_index)\n#print(space_index)\n\nstart=0\n#print(quote[start:space_index])\n\n\n#print(quote[start:space_index])\n    \nwhile space_index != -1:\n    print(quote[start:space_index])\n    start=space_index+1\n    space_index=quote.find(\" \",start)\n    #if space_index>0:\n         \n    #else:\n        #break\n#print(space_index)",
      "execution_count": null,
      "outputs": []
    },
    {
      "metadata": {
        "trusted": true
      },
      "cell_type": "code",
      "source": "",
      "execution_count": null,
      "outputs": []
    }
  ],
  "metadata": {
    "anaconda-cloud": {},
    "kernelspec": {
      "name": "python3",
      "display_name": "Python 3",
      "language": "python"
    },
    "language_info": {
      "mimetype": "text/x-python",
      "nbconvert_exporter": "python",
      "name": "python",
      "pygments_lexer": "ipython3",
      "version": "3.5.4",
      "file_extension": ".py",
      "codemirror_mode": {
        "version": 3,
        "name": "ipython"
      }
    }
  },
  "nbformat": 4,
  "nbformat_minor": 1
}