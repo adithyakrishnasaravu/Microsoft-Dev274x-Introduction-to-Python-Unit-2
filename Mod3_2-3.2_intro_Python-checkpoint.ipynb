{
  "cells": [
    {
      "metadata": {},
      "cell_type": "markdown",
      "source": "# 2-3.2 Intro Python\n# The Power of List Iteration (loops)\n- for in: **`for`** loop using **`in`**\n- ** for range: `for range(start,stop,step)`** \n- more list methods: **`.extend()`, `+, .reverse(), .sort()`**      \n- strings to lists, **`.split()`**, and list to strings, **`.join()`**   \n\n\n----- \n\n><font size=\"5\" color=\"#00A0B2\"  face=\"verdana\"> <B>Student will be able to</B></font>  \n- Iterate through Lists using **`for`** with **`in`**\n- **Use `for range()` in looping operations**  \n- Use list methods **`.extend()`, `+, .reverse(), .sort()`**  \n- convert between lists and strings using  **`.split()`** and **`.join()`**"
    },
    {
      "metadata": {},
      "cell_type": "markdown",
      "source": "# &nbsp;\n<font size=\"6\" color=\"#00A0B2\"  face=\"verdana\"> <B>Concepts</B></font>\n##  `range(stop)`\n[![view video](https://iajupyterprodblobs.blob.core.windows.net/imagecontainer/common/play_video.png)](http://edxinteractivepage.blob.core.windows.net/edxpages/f7cff1a7-5601-48a1-95a6-fd1fdfabd20e.html?details=[{\"src\":\"http://jupyternootbookwams.streaming.mediaservices.windows.net/bda2424d-4f25-4c0a-a77a-06384f3da8f2/Unit2_Section3.2a_range_stop.ism/manifest\",\"type\":\"application/vnd.ms-sstr+xml\"}],[{\"src\":\"http://jupyternootbookwams.streaming.mediaservices.windows.net/bda2424d-4f25-4c0a-a77a-06384f3da8f2/Unit2_Section3.2a_range_stop.vtt\",\"srclang\":\"en\",\"kind\":\"subtitles\",\"label\":\"english\"}])\n### The range(*stop*) function creates a sequence  \nusing 1 argument with range(*stop*)\n- deault start: 0\n- stop: stopping integer, does not process stop number\n```python\nfor count in range(10):\n  print(count)\n```\n### same as\n```python\nfor count in [0, 1, 2, 3, 4, 5, 6, 7, 8, 9]:\n  print(count)\n```\n"
    },
    {
      "metadata": {},
      "cell_type": "markdown",
      "source": "# &nbsp;\n<font size=\"6\" color=\"#00A0B2\"  face=\"verdana\"> <B>Examples</B></font>  \n### range runs from `0` through the integer before `stop`"
    },
    {
      "metadata": {
        "trusted": true
      },
      "cell_type": "code",
      "source": "# [ ] review and run example\nfor count in range(10):\n      print(count)",
      "execution_count": 1,
      "outputs": [
        {
          "output_type": "stream",
          "text": "0\n1\n2\n3\n4\n5\n6\n7\n8\n9\n",
          "name": "stdout"
        }
      ]
    },
    {
      "metadata": {
        "trusted": true
      },
      "cell_type": "code",
      "source": "# review and run example\ndigits = range(10)\nprint(\"digits =\", list(digits), \"\\n\")\n\nfor count in digits:\n    print(count)",
      "execution_count": 2,
      "outputs": [
        {
          "output_type": "stream",
          "text": "digits = [0, 1, 2, 3, 4, 5, 6, 7, 8, 9] \n\n0\n1\n2\n3\n4\n5\n6\n7\n8\n9\n",
          "name": "stdout"
        }
      ]
    },
    {
      "metadata": {
        "trusted": true
      },
      "cell_type": "code",
      "source": "# [ ] review and run example\nsub_total = 0\nfor item in range(10):\n    sub_total += item\n    print(\"sub_total:\", sub_total)\nprint(\"Total =\", sub_total)",
      "execution_count": 3,
      "outputs": [
        {
          "output_type": "stream",
          "text": "sub_total: 0\nsub_total: 1\nsub_total: 3\nsub_total: 6\nsub_total: 10\nsub_total: 15\nsub_total: 21\nsub_total: 28\nsub_total: 36\nsub_total: 45\nTotal = 45\n",
          "name": "stdout"
        }
      ]
    },
    {
      "metadata": {
        "trusted": true
      },
      "cell_type": "code",
      "source": "# [ ] review and run example\n# print the first half of a spelling list\nspell_list = [\"Tuesday\", \"Wednesday\", \"February\", \"November\", \"Annual\", \"Calendar\", \"Solstice\"]\n\n# find length of 1st half of list (must be int)\nhalf_1 = int(len(spell_list)/2)\n\nfor word in range(half_1):\n    print(spell_list[word])",
      "execution_count": 4,
      "outputs": [
        {
          "output_type": "stream",
          "text": "Tuesday\nWednesday\nFebruary\n",
          "name": "stdout"
        }
      ]
    },
    {
      "metadata": {
        "collapsed": true
      },
      "cell_type": "markdown",
      "source": "# &nbsp;\n<font size=\"6\" color=\"#B24C00\"  face=\"verdana\"> <B>Task 1</B></font>\n\n## `range(stop)`"
    },
    {
      "metadata": {
        "trusted": true
      },
      "cell_type": "code",
      "source": "# [ ] for x = 6, use range(x) to print the numbers 1 through 6\nx = 6\nfor count in range(1,x+1):\n    print(count)\n    \n",
      "execution_count": 8,
      "outputs": [
        {
          "output_type": "stream",
          "text": "1\n2\n3\n4\n5\n6\n",
          "name": "stdout"
        }
      ]
    },
    {
      "metadata": {
        "trusted": true
      },
      "cell_type": "code",
      "source": "# [ ] using range(x) multiply the numbers 1 through 7\n# 1x2x3x4x5x6x7 = 5040\ni=1\nr=i*(i+1)\nfor i in range(1,6):\n    i+=1\n    r=r*(i+1)\nprint(r)\n    ",
      "execution_count": 41,
      "outputs": [
        {
          "output_type": "stream",
          "text": "5040\n",
          "name": "stdout"
        }
      ]
    },
    {
      "metadata": {},
      "cell_type": "markdown",
      "source": "Use **`range(stop)`** to print the second half of spell_list below"
    },
    {
      "metadata": {
        "trusted": true
      },
      "cell_type": "code",
      "source": "# [ ] print the second half of a spelling list using a range(stop) loop to iterate the list\nspell_list = [\"Wednesday\", \"Tuesday\", \"February\", \"November\", \"Annual\", \"Calendar\", \"Solstice\"]\nx=int(len(spell_list)/2)\ny=int(len(spell_list))\nfor i in range(x,y)   :\n    print(spell_list[i])\n\n",
      "execution_count": 47,
      "outputs": [
        {
          "output_type": "stream",
          "text": "November\nAnnual\nCalendar\nSolstice\n",
          "name": "stdout"
        }
      ]
    },
    {
      "metadata": {},
      "cell_type": "markdown",
      "source": "# &nbsp;\n<font size=\"6\" color=\"#00A0B2\"  face=\"verdana\"> <B>Concepts</B></font>\n##  `range(start,stop)`\n[![view video](https://iajupyterprodblobs.blob.core.windows.net/imagecontainer/common/play_video.png)](http://edxinteractivepage.blob.core.windows.net/edxpages/f7cff1a7-5601-48a1-95a6-fd1fdfabd20e.html?details=[{\"src\":\"http://jupyternootbookwams.streaming.mediaservices.windows.net/95d6c75a-ed37-4f50-9049-2a2c225f9499/Unit2_Section3.2b_range_start_stop.ism/manifest\",\"type\":\"application/vnd.ms-sstr+xml\"}],[{\"src\":\"http://jupyternootbookwams.streaming.mediaservices.windows.net/95d6c75a-ed37-4f50-9049-2a2c225f9499/Unit2_Section3.2b_range_start_stop.vtt\",\"srclang\":\"en\",\"kind\":\"subtitles\",\"label\":\"english\"}])\n### The range(*start,stop*) function creates a sequence\nusing 2 arguments with range(*start,stop*)\n- start: starting integer value of a range loop\n- stop: stopping integer (second argument), does not process stop number \n```python\nfor count in range(5,10):\n  print(count)\n```\n"
    },
    {
      "metadata": {},
      "cell_type": "markdown",
      "source": "### &nbsp;\n<font size=\"6\" color=\"#00A0B2\"  face=\"verdana\"> <B>Examples</B></font>  \n### range runs from `start` integer through the integer before `stop`"
    },
    {
      "metadata": {
        "trusted": true
      },
      "cell_type": "code",
      "source": "# [ ] review and run example\nfor count in range(5,10):\n      print(count)",
      "execution_count": 48,
      "outputs": [
        {
          "output_type": "stream",
          "text": "5\n6\n7\n8\n9\n",
          "name": "stdout"
        }
      ]
    },
    {
      "metadata": {
        "trusted": true
      },
      "cell_type": "code",
      "source": "# [ ] review and run example\nsub_total = 0\ntemp = 0\nfor item in range(5, 11):\n    temp = sub_total\n    sub_total += item\n    print(\"sub_total:\", temp, \"+\", item, \"=\",sub_total)\nprint(\"Total =\", sub_total)",
      "execution_count": 49,
      "outputs": [
        {
          "output_type": "stream",
          "text": "sub_total: 0 + 5 = 5\nsub_total: 5 + 6 = 11\nsub_total: 11 + 7 = 18\nsub_total: 18 + 8 = 26\nsub_total: 26 + 9 = 35\nsub_total: 35 + 10 = 45\nTotal = 45\n",
          "name": "stdout"
        }
      ]
    },
    {
      "metadata": {
        "trusted": true
      },
      "cell_type": "code",
      "source": "# [ ] review and run example\n\nspell_list = [\"Tuesday\", \"Wednesday\", \"February\", \"November\", \"Annual\", \"Calendar\", \"Solstice\"]\n\n# find length list \nspell_len = len(spell_list)\n# find lenght of 1st half (aka - start of 2nd half)\nhalf_1 = int(spell_len/2)\n\n# print 2nd half list\nfor word in range(half_1,spell_len):\n    print(spell_list[word])",
      "execution_count": 50,
      "outputs": [
        {
          "output_type": "stream",
          "text": "November\nAnnual\nCalendar\nSolstice\n",
          "name": "stdout"
        }
      ]
    },
    {
      "metadata": {
        "collapsed": true
      },
      "cell_type": "markdown",
      "source": "# &nbsp;\n<font size=\"6\" color=\"#B24C00\"  face=\"verdana\"> <B>Task 2</B></font>\n\n##  `range(start,stop)`"
    },
    {
      "metadata": {
        "trusted": true
      },
      "cell_type": "code",
      "source": "# [ ] using range(start,stop), .append() the numbers 5 to 15 to the list: five_fifteen\nfive_fifteen=[]\nfor num in range(5,16):\n    five_fifteen.append(num)\n# [ ] print list five_fifteen\nprint(five_fifteen)\n",
      "execution_count": 51,
      "outputs": [
        {
          "output_type": "stream",
          "text": "[5, 6, 7, 8, 9, 10, 11, 12, 13, 14, 15]\n",
          "name": "stdout"
        }
      ]
    },
    {
      "metadata": {
        "trusted": true
      },
      "cell_type": "code",
      "source": "# [ ] using range(start,stop) - print the 3rd, 4th and 5th words in spell_list\n# output should include \"February\", \"November\", \"Annual\"\nspell_list = [\"Tuesday\", \"Wednesday\", \"February\", \"November\", \"Annual\", \"Calendar\", \"Solstice\"]\nfor i in range(2,5):\n    print(spell_list[i])\n",
      "execution_count": 52,
      "outputs": [
        {
          "output_type": "stream",
          "text": "February\nNovember\nAnnual\n",
          "name": "stdout"
        }
      ]
    },
    {
      "metadata": {
        "trusted": true
      },
      "cell_type": "code",
      "source": "# [ ] using code find the index of \"Annual\" in spell_list\nx=spell_list.index(\"Annual\")\ny=len(spell_list)\n# [ ] using range, print the spell_list including \"Annual\" to end of list\nspell_list = [\"Tuesday\", \"Wednesday\", \"February\", \"November\", \"Annual\", \"Calendar\", \"Solstice\"]\nfor i in range(x,y):\n    print(spell_list[i])",
      "execution_count": 57,
      "outputs": [
        {
          "output_type": "stream",
          "text": "Annual\nCalendar\nSolstice\n",
          "name": "stdout"
        }
      ]
    },
    {
      "metadata": {},
      "cell_type": "markdown",
      "source": "# &nbsp;\n<font size=\"6\" color=\"#00A0B2\"  face=\"verdana\"> <B>Concepts</B></font>\n##  `range(start,stop,step)`\n[![view video](https://iajupyterprodblobs.blob.core.windows.net/imagecontainer/common/play_video.png)](http://edxinteractivepage.blob.core.windows.net/edxpages/f7cff1a7-5601-48a1-95a6-fd1fdfabd20e.html?details=[{\"src\":\"http://jupyternootbookwams.streaming.mediaservices.windows.net/4299f0e2-3dc2-4298-aff1-e2a0b013de6a/Unit2_Section3.2c_range_start_stop_step.ism/manifest\",\"type\":\"application/vnd.ms-sstr+xml\"}],[{\"src\":\"http://jupyternootbookwams.streaming.mediaservices.windows.net/4299f0e2-3dc2-4298-aff1-e2a0b013de6a/Unit2_Section3.2c_range_start_stop_step.vtt\",\"srclang\":\"en\",\"kind\":\"subtitles\",\"label\":\"english\"}])\n### The range(*start,stop,step*) function creates a sequence\nusing 3 arguments with range(*start,stop,step*)\n- start: starting integer value of a range loop\n- stop: stopping integer (second argument), does not process stop number \n- step: skip value for each loop\n```python\nfor count in range(10,101,10):\n  print(count)\n```\n"
    },
    {
      "metadata": {},
      "cell_type": "markdown",
      "source": "# &nbsp;\n<font size=\"6\" color=\"#00A0B2\"  face=\"verdana\"> <B>Examples</B></font>  \n### range runs from `start` integer, skipping by `step`, through the largest `step` integer before reaching `stop`"
    },
    {
      "metadata": {
        "trusted": true
      },
      "cell_type": "code",
      "source": "# [ ] review and run example\nfor count in range(25,101,25):\n      print(count)",
      "execution_count": 1,
      "outputs": [
        {
          "output_type": "stream",
          "text": "25\n50\n75\n100\n",
          "name": "stdout"
        }
      ]
    },
    {
      "metadata": {
        "trusted": true
      },
      "cell_type": "code",
      "source": "# [ ] review and run example\nsub_total = 0\ntemp = 0\nfor item in range(25,46,5):\n    temp = sub_total\n    sub_total += item\n    print(\"sub_total:\", temp, \"+\", item, \"=\",sub_total)\nprint(\"Total =\", sub_total)",
      "execution_count": 2,
      "outputs": [
        {
          "output_type": "stream",
          "text": "sub_total: 0 + 25 = 25\nsub_total: 25 + 30 = 55\nsub_total: 55 + 35 = 90\nsub_total: 90 + 40 = 130\nsub_total: 130 + 45 = 175\nTotal = 175\n",
          "name": "stdout"
        }
      ]
    },
    {
      "metadata": {
        "trusted": true
      },
      "cell_type": "code",
      "source": "# [ ] review and run example printing the 1st and then every other word in spell_list\nspell_list = [\"Tuesday\", \"Wednesday\", \"February\", \"November\", \"Annual\", \"Calendar\", \"Solstice\"]\n\nfor index in range(0,len(spell_list),2):\n    print(spell_list[index])",
      "execution_count": 3,
      "outputs": [
        {
          "output_type": "stream",
          "text": "Tuesday\nFebruary\nAnnual\nSolstice\n",
          "name": "stdout"
        }
      ]
    },
    {
      "metadata": {
        "trusted": true
      },
      "cell_type": "code",
      "source": "# [ ] review and run example casting range to list\nodd_list = list(range(1,20,2))\nprint(odd_list)",
      "execution_count": 4,
      "outputs": [
        {
          "output_type": "stream",
          "text": "[1, 3, 5, 7, 9, 11, 13, 15, 17, 19]\n",
          "name": "stdout"
        }
      ]
    },
    {
      "metadata": {
        "collapsed": true
      },
      "cell_type": "markdown",
      "source": "# &nbsp;\n<font size=\"6\" color=\"#B24C00\"  face=\"verdana\"> <B>Task 3</B></font>  \n## `range(start,stop,step)`"
    },
    {
      "metadata": {
        "trusted": true
      },
      "cell_type": "code",
      "source": "# [ ] print numbers 10 to 20 by 2's using range\nfor i in range(10,21,2):\n    print(i)",
      "execution_count": 5,
      "outputs": [
        {
          "output_type": "stream",
          "text": "10\n12\n14\n16\n18\n20\n",
          "name": "stdout"
        }
      ]
    },
    {
      "metadata": {
        "trusted": true
      },
      "cell_type": "code",
      "source": "# [ ] print numbers 20 to 10 using range (need to countdown)\n# Hint: start at 20\nfor i in range(20,9,-1):\n    print(i)",
      "execution_count": 10,
      "outputs": [
        {
          "output_type": "stream",
          "text": "20\n19\n18\n17\n16\n15\n14\n13\n12\n11\n10\n",
          "name": "stdout"
        }
      ]
    },
    {
      "metadata": {
        "trusted": true
      },
      "cell_type": "code",
      "source": "# [ ] print first and every third word in spell_list\nspell_list = [\"Tuesday\", \"Wednesday\", \"February\", \"November\", \"Annual\", \"Calendar\", \"Solstice\"]\nfor i in range(1,len(spell_list)+1,3):\n    print(spell_list[i-1])\n",
      "execution_count": 12,
      "outputs": [
        {
          "output_type": "stream",
          "text": "Tuesday\nNovember\nSolstice\n",
          "name": "stdout"
        }
      ]
    },
    {
      "metadata": {
        "collapsed": true
      },
      "cell_type": "markdown",
      "source": "# &nbsp;\n<font size=\"6\" color=\"#B24C00\"  face=\"verdana\"> <B>Task 4</B></font>  \n\n### Program: List of letters \n- Input a word string (**word**)\n- find the string length of word \n- **use range()** to iterate through each letter in word (can use to range loops)\n- Save odd and even letters from the word as lists\n  - **odd_letters**: starting at index 0,2,...\n  - **even_letters**: starting at index 1,3,...\n- print odd and even lists"
    },
    {
      "metadata": {
        "trusted": true
      },
      "cell_type": "code",
      "source": "# [ ] complete List of letters program- test with the word \"complexity\"''\nodd_list=[]\neven_list=[]\nword=input('Input a word...')\nword_length=len(word)\nfor i in range(1,word_length+1,2):\n    if (word_length%2)==0:\n        odd_list.append(word[i-1])\n        even_list.append(word[i])\n    else:\n        odd_list.append(word[i])\n        even_list.append(word[i-1])\nprint(word_length)       \nprint(odd_list)   \nprint(even_list)\n\n",
      "execution_count": 16,
      "outputs": [
        {
          "output_type": "stream",
          "name": "stdout",
          "text": "Input a word...complexity\n10\n['c', 'm', 'l', 'x', 't']\n['o', 'p', 'e', 'i', 'y']\n"
        }
      ]
    },
    {
      "metadata": {},
      "cell_type": "markdown",
      "source": "# &nbsp;\n<font size=\"6\" color=\"#B24C00\"  face=\"verdana\"> <B>Task 5: fix the error</B></font>\n"
    },
    {
      "metadata": {
        "trusted": true
      },
      "cell_type": "code",
      "source": "# [ ] fix the error printing odd numbers 1 - 9\nfor num in range(1,10,2):\n    print(num)\n\n\n",
      "execution_count": 17,
      "outputs": [
        {
          "output_type": "stream",
          "text": "1\n3\n5\n7\n9\n",
          "name": "stdout"
        }
      ]
    },
    {
      "metadata": {},
      "cell_type": "markdown",
      "source": "[Terms of use](http://go.microsoft.com/fwlink/?LinkID=206977) &nbsp; [Privacy & cookies](https://go.microsoft.com/fwlink/?LinkId=521839) &nbsp; © 2017 Microsoft"
    }
  ],
  "metadata": {
    "anaconda-cloud": {},
    "kernelspec": {
      "name": "python3",
      "display_name": "Python 3",
      "language": "python"
    },
    "language_info": {
      "mimetype": "text/x-python",
      "nbconvert_exporter": "python",
      "name": "python",
      "pygments_lexer": "ipython3",
      "version": "3.5.4",
      "file_extension": ".py",
      "codemirror_mode": {
        "version": 3,
        "name": "ipython"
      }
    }
  },
  "nbformat": 4,
  "nbformat_minor": 1
}