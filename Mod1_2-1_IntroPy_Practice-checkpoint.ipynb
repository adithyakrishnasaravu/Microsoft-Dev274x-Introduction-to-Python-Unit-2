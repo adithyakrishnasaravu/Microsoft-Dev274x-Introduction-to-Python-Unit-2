{
  "cells": [
    {
      "metadata": {},
      "cell_type": "markdown",
      "source": "# 2-1 Intro Python Practice\n## Sequence: String\n\n<font size=\"5\" color=\"#00A0B2\"  face=\"verdana\"> <B>Student will be able to</B></font>  \n- Work with String Characters\n- Slice strings into substrings\n- Iterate through String Characters\n- Use String ~~Tricks~~ Methods"
    },
    {
      "metadata": {},
      "cell_type": "markdown",
      "source": "# &nbsp;\n<font size=\"6\" color=\"#B24C00\"  face=\"verdana\"> <B>Task 1</B></font>\n##  Access String Characters \n### `working_string[index]`\n"
    },
    {
      "metadata": {
        "trusted": true
      },
      "cell_type": "code",
      "source": "# [ ] access and print the second character from planet_name: \"u\"\nplanet_name = \"Jupiter\"\nx=planet_name.find(\"u\")\nprint(planet_name[x:x+1])\n",
      "execution_count": null,
      "outputs": []
    },
    {
      "metadata": {
        "trusted": true
      },
      "cell_type": "code",
      "source": "# [ ] access and print the first character from planet_name: \"J\"\nplanet_name = \"Jupiter\"\ny=planet_name.find(\"J\")\nprint(planet_name[y:y+1])\n",
      "execution_count": null,
      "outputs": []
    },
    {
      "metadata": {
        "trusted": true
      },
      "cell_type": "code",
      "source": "# [ ] access and print the first and last characters from planet_name\nplanet_name = \"Jupiter\"\nlength=len(planet_name)\na=planet_name[0:1]\nb=planet_name[length-1:length]\nprint(a)\nprint(b)",
      "execution_count": null,
      "outputs": []
    },
    {
      "metadata": {
        "trusted": true
      },
      "cell_type": "code",
      "source": "# [ ] using a negative index access and print the first character from planet_name: \"J\"\nplanet_name = \"Jupiter\"\nj_index=planet_name[-7:-6]\nprint(j_index)\n",
      "execution_count": null,
      "outputs": []
    },
    {
      "metadata": {},
      "cell_type": "markdown",
      "source": "# &nbsp;\n<font size=\"6\" color=\"#B24C00\"  face=\"verdana\"> <B>Task 2</B></font>\n## slice\n### `working_string[start:stop]`\n### `working_string[start:stop:step]`"
    },
    {
      "metadata": {
        "trusted": true
      },
      "cell_type": "code",
      "source": "# [ ] print planet_name sliced into the first 3 characters and remaining characters\nplanet_name = \"Neptune\"\nprint(planet_name[:3])   \nprint(planet_name[3:])\n",
      "execution_count": null,
      "outputs": []
    },
    {
      "metadata": {
        "trusted": true
      },
      "cell_type": "code",
      "source": "# [ ] print 1st char and then every 3rd char of wise_words\nprint(wise_words[0::3])\n# use string slice with a step\nwise_words = 'Play it who opens'\n\n\n",
      "execution_count": null,
      "outputs": []
    },
    {
      "metadata": {
        "trusted": true
      },
      "cell_type": "code",
      "source": "# [ ] print planet_name in reverse\nprint(planet_name[::-1])\n",
      "execution_count": null,
      "outputs": []
    },
    {
      "metadata": {
        "collapsed": true
      },
      "cell_type": "markdown",
      "source": "# &nbsp;\n<font size=\"6\" color=\"#B24C00\"  face=\"verdana\"> <B>Task 3</B></font>\n\n## iterate a String\n### `for letter in sentence:`"
    },
    {
      "metadata": {
        "trusted": true
      },
      "cell_type": "code",
      "source": "# [ ] Get user input for 1 fav_food\nfav_food=input(\"What is your favourite food?\")\n# [ ] iterate through letters in fav_food \n# - print each letter on a new line\nfor letter in fav_food:\n        print(letter)",
      "execution_count": null,
      "outputs": []
    },
    {
      "metadata": {
        "trusted": true
      },
      "cell_type": "code",
      "source": "work_tip = \"Good code is commented code\"\n# [ ] iterate work_tip string concatenate each letter to variable: new_string \nnew_string = \" \"\nfor letter in work_tip:\n    if letter != \" \":\n        new_string+=letter\n    else:\n        new_string=new_string+\"-\"\n          \n# [ ] concatenate the letter or a \"-\" instead of a space \" \"\n     \nprint(new_string)\n# tip: concatenate string example: word = word + \"a\"\n\n\n\n",
      "execution_count": null,
      "outputs": []
    },
    {
      "metadata": {
        "trusted": true
      },
      "cell_type": "code",
      "source": "# [ ] Print the first 4 letters of name on new line\nname = \"Hiroto\"\nprint(name[0:4])\n",
      "execution_count": null,
      "outputs": []
    },
    {
      "metadata": {
        "trusted": true
      },
      "cell_type": "code",
      "source": "# [ ] Print every other letter from 2nd to last letter of name \nname = \"Hiroto\"\nprint(name[1::2])\n",
      "execution_count": null,
      "outputs": []
    },
    {
      "metadata": {},
      "cell_type": "markdown",
      "source": "# &nbsp;\n<font size=\"6\" color=\"#B24C00\"  face=\"verdana\"> <B>Task 4</B></font>\n\n## Program: Mystery Name\n- get user input for first_name\n- create an empty string variable: new_name\n- iterate through letters in first_name Backwards \n  - add each letter to new_name as you iterate\n  - Replace the letter if \"e\", \"t\" or \"a\" with \"?\" *(hint: if, elif, elif, else)*\n- print new_name  \n\n**example: \"Alton\" = \"no?l?\"**"
    },
    {
      "metadata": {
        "trusted": true
      },
      "cell_type": "code",
      "source": "# [ ] Create Mystery Name\nfirst_name=input(\"Please enter your first name...\")\nnew_name=\" \"\nfor letter in first_name[::-1]:\n    \n    if letter==\"e\":\n        new_name+=\"?\"\n    elif letter==\"t\":\n        new_name+=\"?\"\n    elif letter==\"a\":\n        new_name+=\"?\"\n    else:\n        new_name+=letter\nprint(\"Your Mystery Name is\",new_name)",
      "execution_count": null,
      "outputs": []
    },
    {
      "metadata": {},
      "cell_type": "markdown",
      "source": "# &nbsp;\n<font size=\"6\" color=\"#B24C00\"  face=\"verdana\"> <B>Task 4</B></font>\n## `len(), .find(), .count()`   \n\n```  \n- len(working_string)\n- .find(\"i\")\n- .find(\"i\",start)\n- .find(\"i\", start, end)\n- .count(\"i\")\n- .count(\"i\", start)\n- .count(\"i\", start, end)\n```   "
    },
    {
      "metadata": {
        "trusted": true
      },
      "cell_type": "code",
      "source": "# [ ] find and display the length of the string: topic\ntopic = \"len() returns the length of a string\"\nx=len(topic)\nprint(x)\n",
      "execution_count": null,
      "outputs": []
    },
    {
      "metadata": {
        "trusted": true
      },
      "cell_type": "code",
      "source": "# [ ] use len() to find and display the mid_pt (middle) index (+/- 1) of the string: topic\n# note: index values are whole numbers\ntopic = \"len() can take a sequence, like a string, as an argument\"\n#This is an extra step just to calculate the midpoint. 1 can directly be subtracted from tpoic_mdpt.\ntopic_mdpt=(len(topic)/2)\n#This is done for calculating the index of the midpoint.\nmiddle_index=topic_mdpt-1\nprint(middle_index)\n",
      "execution_count": null,
      "outputs": []
    },
    {
      "metadata": {
        "trusted": true
      },
      "cell_type": "code",
      "source": "# [ ] print index where first instance of the word  \"code\" starts using .find()\nwork_tip = \"Good code is commented code\"\nprint(work_tip.find(\"code\"))\n",
      "execution_count": null,
      "outputs": []
    },
    {
      "metadata": {
        "trusted": true
      },
      "cell_type": "code",
      "source": "code_tip = \"Good code is commented code\"\n# [ ] search for \"code\" in code_tip using .find() \nfor x in code_tip:    \n    code_index=code_tip.find(\"code\")\nprint(code_index)\n# [ ] search substring with substring index start= 13,end = last char \ncode_index=code_tip.find(\" \",13,)\nprint(code_tip[13:code_index])\nprint(code_tip[code_index:])\n# [ ] save result in variable: code_index\n# [ ] display index of where \"code\" is found, or print \"not found\" if code_index == -1\nif code_index==-1:\n    print(\"Not Found\")\nelse:\n    print(code_index)",
      "execution_count": null,
      "outputs": []
    },
    {
      "metadata": {
        "collapsed": true
      },
      "cell_type": "markdown",
      "source": "# &nbsp;\n<font size=\"6\" color=\"#B24C00\"  face=\"verdana\"> <B>Task 5</B></font>"
    },
    {
      "metadata": {
        "trusted": true
      },
      "cell_type": "code",
      "source": "# [ ] find and report (print) number of w's, o's + use of word \"code\"\nwork_tip = \"Good code is commented code\"\na=work_tip.count(\"w\")\nb=work_tip.count(\"o\")\nc=work_tip.count(\"code\")\nprint(\"The number of w's are\",a,\",number of o's are\",b,\"and the number of 'code' words are\",c)",
      "execution_count": null,
      "outputs": []
    },
    {
      "metadata": {
        "trusted": true
      },
      "cell_type": "code",
      "source": "code_tip = \"code a conditional decision like you would say it\"\n# [ ]  count times letter \"i\" appears in code_tip string\ni_count=code_tip.count(\"i\")\nprint(i_count)\n# [ ] find and display the index of all the letter i's in code_tip\ni_index=code_tip.find(\"i\")\nprint(i_index)\n#The While Loop Starts\nwhile i_index >=0:\n    i_index=code_tip.find(\"i\",i_index+1)\n    print(i_index)    \n# Remember: if .find(\"i\") has No Match, -1 is returned\nprint (\"code_tip:\" , code_tip)\n\n",
      "execution_count": null,
      "outputs": []
    },
    {
      "metadata": {},
      "cell_type": "markdown",
      "source": "# &nbsp;\n<font size=\"6\" color=\"#B24C00\"  face=\"verdana\"> <B>Task 6</B></font>\n\n## Program: Words after \"G\"/\"g\"\nCreate a program inputs a phrase (like a famous quotation) and prints all of the words that start with h-z\n\nSample input:  \n`enter a 1 sentence quote, non-alpha separate words:` **`Wheresoever you go, go with all your heart`**  \n\nSample output:\n```\nWHERESOEVER\nYOU\nWITH\nYOUR\nHEART\n```\n- split the words by building a placeholder variable: **`word`**  \n  - loop each character in the input string  \n  - check if character is a letter  \n  - add a letter to **`word`** each loop until a non-alpha char is encountered  \n\n- **if** character is alpha \n  - add character to **`word`**    \n  - non-alpha detected (space, punctuation, digit,...) defines the end of a word and goes to **`else`**    \n- **`else`**  \n  - check **`if`** word is greater than \"g\" alphabetically\n      - print word \n:      - set word = empty string\n  - or **else** \n    - set word = empty string and build the next word  \n\nHint: use `.lower()`"
    },
    {
      "metadata": {
        "trusted": true
      },
      "cell_type": "code",
      "source": "quote_input=input(\"Please input any famous quote you know...\").lower()\nword =\"\"\nquote_input = '\"' + quote_input + '\"'\n\n# [] create words after \"G\"\nfor char in quote_input:\n    if char.isalpha():\n        word+=char\n    else:\n        if word.lower()>=\"h\":\n            print(word.upper())\n            word=\"\"\n        else:\n            word=\"\"\n# sample quote \"Wheresoever you go, go with all your heart\" ~ Confucius (551 BC - 479 BC)",
      "execution_count": 8,
      "outputs": [
        {
          "output_type": "stream",
          "name": "stdout",
          "text": "Please input any famous quote you know...Wheresoever you go, go with all your heart\nWHERESOEVER\nYOU\nWITH\nYOUR\nHEART\n"
        }
      ]
    },
    {
      "metadata": {
        "collapsed": true
      },
      "cell_type": "markdown",
      "source": "[Terms of use](http://go.microsoft.com/fwlink/?LinkID=206977) &nbsp; [Privacy & cookies](https://go.microsoft.com/fwlink/?LinkId=521839) &nbsp; © 2017 Microsoft"
    }
  ],
  "metadata": {
    "anaconda-cloud": {},
    "kernelspec": {
      "name": "python3",
      "display_name": "Python 3",
      "language": "python"
    },
    "language_info": {
      "mimetype": "text/x-python",
      "nbconvert_exporter": "python",
      "name": "python",
      "file_extension": ".py",
      "version": "3.5.4",
      "pygments_lexer": "ipython3",
      "codemirror_mode": {
        "version": 3,
        "name": "ipython"
      }
    }
  },
  "nbformat": 4,
  "nbformat_minor": 1
}