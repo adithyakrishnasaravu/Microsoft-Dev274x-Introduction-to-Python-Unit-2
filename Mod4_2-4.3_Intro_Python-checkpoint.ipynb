{
  "cells": [
    {
      "metadata": {},
      "cell_type": "markdown",
      "source": "# 2-4.3 Intro Python\n## Working with Files\n4.1 File import in Jupyter Notebooks  \n4.1 File **`open()`** and **`.read()`**  \n4.2 File Read as a list with **`.readlines()`**  \n4.2 File Closing to free resources with **`.close`**  \n4.3 **File Read, a line at a time with `.readline()`**  \n4.3 **Remove characters using `.strip()`**  \n4.4 File **`.write()`**  with **`.seek()`**  \n4.4 File append mode \n\n----- \n\n><font size=\"5\" color=\"#00A0B2\"  face=\"verdana\"> <B>Student will be able to</B></font>  \n4.1 Import files in Jupyter Notebooks  \n4.1 **`open()`** and **`.read()`** local files in memory   \n4.1 **`.read()`** a specific number of characters  \n4.2 Use **`.readlines()`** to read data from file as a **list** of lines   \n4.2 Use **`.close`** to free system resources  \n4.3 **Use `.readline()` to read data from file, one line at a time**  \n4.3 **Use `.strip()` to remove new line characters and other whitespaces**  \n4.4 **`.write()`** data to a new local file\n4.4 Use **`.seek()`** to set file read or write location  \n4.4 Use file append mode"
    },
    {
      "metadata": {},
      "cell_type": "markdown",
      "source": "# &nbsp;\n<font size=\"6\" color=\"#00A0B2\"  face=\"verdana\"> <B>Concepts</B></font>\n## .readline(): read files a line at a time\n[![view video](https://iajupyterprodblobs.blob.core.windows.net/imagecontainer/common/play_video.png)]( http://edxinteractivepage.blob.core.windows.net/edxpages/f7cff1a7-5601-48a1-95a6-fd1fdfabd20e.html?details=[{\"src\":\"http://jupyternootbookwams.streaming.mediaservices.windows.net/8f41bf3b-05b1-459e-87e9-419168b2bf0d/Unit2_Section4.3a-Readlines-Line_by_Line.ism/manifest\",\"type\":\"application/vnd.ms-sstr+xml\"}],[{\"src\":\"http://jupyternootbookwams.streaming.mediaservices.windows.net/8f41bf3b-05b1-459e-87e9-419168b2bf0d/Unit2_Section4.3a-Readlines-Line_by_Line.vtt\",\"srclang\":\"en\",\"kind\":\"subtitles\",\"label\":\"english\"}])\n### use .readline() to read a line in a file as a string\neach .readline() moves to the next available line in the file\n```python\npoem1 = open('poem1.txt', 'r')\npoem_line1 = poem1.readline()\npoem_line2 = poem1.readline()\npoem_line3 = poem1.readline()\n```"
    },
    {
      "metadata": {},
      "cell_type": "markdown",
      "source": "# &nbsp;\n<font size=\"6\" color=\"#00A0B2\"  face=\"verdana\"> <B>Examples</B></font>"
    },
    {
      "metadata": {
        "trusted": true
      },
      "cell_type": "code",
      "source": "# [ ]Run to download file poem1.txt\n!curl https://raw.githubusercontent.com/MicrosoftLearning/intropython/master/poem1.txt -o poem1.txt ",
      "execution_count": null,
      "outputs": []
    },
    {
      "metadata": {
        "trusted": true
      },
      "cell_type": "code",
      "source": "# [ ] review and run example\n# open address to file\npoem1 = open('poem1.txt', 'r')",
      "execution_count": null,
      "outputs": []
    },
    {
      "metadata": {
        "trusted": true
      },
      "cell_type": "code",
      "source": "# [ ] review and run example\n# readline 1, 2, 3\npoem_line1 = poem1.readline()\npoem_line2 = poem1.readline()\npoem_line3 = poem1.readline()\nprint(poem_line1)\nprint(poem_line3)",
      "execution_count": null,
      "outputs": []
    },
    {
      "metadata": {
        "trusted": true
      },
      "cell_type": "code",
      "source": "# [ ] review and run example: print the first 3 .readline() values\nprint(poem_line1 + poem_line2 + poem_line3)",
      "execution_count": null,
      "outputs": []
    },
    {
      "metadata": {
        "trusted": true
      },
      "cell_type": "code",
      "source": "# [ ] review and run example printing return value & re-run several times\nprint(poem1.readline())",
      "execution_count": null,
      "outputs": []
    },
    {
      "metadata": {
        "trusted": true
      },
      "cell_type": "code",
      "source": "# [ ] review and run example to close file in memory- then run previous cell\n\npoem1.close()",
      "execution_count": null,
      "outputs": []
    },
    {
      "metadata": {
        "collapsed": true
      },
      "cell_type": "markdown",
      "source": "# &nbsp;\n<font size=\"6\" color=\"#B24C00\"  face=\"verdana\"> <B>Task 1</B></font>\n\n## use readline to get rainbow colors\n- import https://raw.githubusercontent.com/MicrosoftLearning/intropython/master/rainbow as rainbow.txt  \n- open rainbow.txt as rainbow_file as read-only  \n- read the first 3 lines into variables: color1, color2, color3  \n- close rainbow_file \n- print the first 3 colors  "
    },
    {
      "metadata": {
        "trusted": true
      },
      "cell_type": "code",
      "source": "# [ ] import https://raw.githubusercontent.com/MicrosoftLearning/intropython/master/rainbow as rainbow.txt\n!curl https://raw.githubusercontent.com/MicrosoftLearning/intropython/master/rainbow -o rainbow.txt\n",
      "execution_count": null,
      "outputs": []
    },
    {
      "metadata": {
        "trusted": true
      },
      "cell_type": "code",
      "source": "# [ ] open rainbow.txt as rainbow_text\nrainbow_text=open('rainbow.txt','r')",
      "execution_count": null,
      "outputs": []
    },
    {
      "metadata": {
        "trusted": true
      },
      "cell_type": "code",
      "source": "# [ ] read the first 3 lines into variables: color1, color2, color3\ncolor1=rainbow_text.readline()\ncolor2=rainbow_text.readline()\ncolor3=rainbow_text.readline()",
      "execution_count": null,
      "outputs": []
    },
    {
      "metadata": {
        "trusted": true
      },
      "cell_type": "code",
      "source": "# [ ] close rainbow.txt\nrainbow_text.close()\n",
      "execution_count": null,
      "outputs": []
    },
    {
      "metadata": {
        "trusted": true
      },
      "cell_type": "code",
      "source": "# [ ] print the first 3 colors\nprint(color1)\nprint(color2)\nprint(color3)",
      "execution_count": null,
      "outputs": []
    },
    {
      "metadata": {},
      "cell_type": "markdown",
      "source": "# &nbsp;\n<font size=\"6\" color=\"#00A0B2\"  face=\"verdana\"> <B>Concepts</B></font>\n## `.readline()` in a `while` loop\n>```python\npoem_line = poem1.readline()\nwhile poem_line:\n    print(poem_line.capitalized())\n    poem_line = poem1.readline()\n```  \n[![view video](https://iajupyterprodblobs.blob.core.windows.net/imagecontainer/common/play_video.png)]( http://edxinteractivepage.blob.core.windows.net/edxpages/f7cff1a7-5601-48a1-95a6-fd1fdfabd20e.html?details=[{\"src\":\"http://jupyternootbookwams.streaming.mediaservices.windows.net/4662ff60-8839-4fd7-a85d-3aba9ebf8cd3/Unit2_Section4.3b-Readlines-While_Loops.ism/manifest\",\"type\":\"application/vnd.ms-sstr+xml\"}],[{\"src\":\"http://jupyternootbookwams.streaming.mediaservices.windows.net/4662ff60-8839-4fd7-a85d-3aba9ebf8cd3/Unit2_Section4.3b-Readlines-While_Loops.vtt\",\"srclang\":\"en\",\"kind\":\"subtitles\",\"label\":\"english\"}])\n### `while .readline()` \n- while loop continues while the readline() value in poem_line returns text  \n  - a string value evaluates as True in the while loop  \n  - an empty string, '', evaluates **not True** in the while loop \n- when readline() reaches the end of the file, an empty string is returned  \n"
    },
    {
      "metadata": {},
      "cell_type": "markdown",
      "source": "### &nbsp;\n<font size=\"6\" color=\"#00A0B2\"  face=\"verdana\"> <B>Examples</B></font>"
    },
    {
      "metadata": {
        "trusted": true
      },
      "cell_type": "code",
      "source": "# [ ] review and run example\n# open address to file\npoem1 = open('poem1.txt', 'r')",
      "execution_count": null,
      "outputs": []
    },
    {
      "metadata": {
        "trusted": true
      },
      "cell_type": "code",
      "source": "# [ ] review and run example - use a while loop to read each line of a file \n#  remove last character ('\\n') and print as upper case\npoem_line = poem1.readline()\n\nwhile poem_line:\n    print(poem_line[:-1].upper())\n    poem_line = poem1.readline()",
      "execution_count": null,
      "outputs": []
    },
    {
      "metadata": {
        "trusted": true
      },
      "cell_type": "code",
      "source": "# [ ] review and run example\npoem1.close()",
      "execution_count": null,
      "outputs": []
    },
    {
      "metadata": {
        "collapsed": true
      },
      "cell_type": "markdown",
      "source": "# &nbsp;\n<font size=\"6\" color=\"#B24C00\"  face=\"verdana\"> <B>Task 2</B></font>\n\n## while .readline()  rainbow colors\nassumes rainbow.txt has been imported in task 1  \n- open rainbow.txt as rainbow_file as read-only  \n- read a color from each line of rainbow_file in a while loop  \n  - print each color capitalized  \n- close rainbow_file  "
    },
    {
      "metadata": {
        "trusted": true
      },
      "cell_type": "code",
      "source": "# [ ] open rainbow.txt as rainbow_text as read-only\n!curl https://raw.githubusercontent.com/MicrosoftLearning/intropython/master/rainbow -o rainbow.txt\nrainbow_text=open('rainbow.txt','r')",
      "execution_count": null,
      "outputs": []
    },
    {
      "metadata": {
        "trusted": true
      },
      "cell_type": "code",
      "source": "# [ ] read the color from lines of rainbow_text in a while loop\nrainbow_lines=rainbow_text.readline()\nwhile rainbow_lines:\n# [ ] print each color capitalized as the loop runs\n    print(rainbow_lines[:-1].capitalize())\n    rainbow_lines=rainbow_text.readline()\n    ",
      "execution_count": null,
      "outputs": []
    },
    {
      "metadata": {
        "trusted": true
      },
      "cell_type": "code",
      "source": "# [ ] close rainbow_text \nrainbow_text.close()\n",
      "execution_count": null,
      "outputs": []
    },
    {
      "metadata": {},
      "cell_type": "markdown",
      "source": "# &nbsp;\n<font size=\"6\" color=\"#00A0B2\"  face=\"verdana\"> <B>Concepts</B></font>  \n\n## `.readline()`  with `.strip()`\n[![view video](https://iajupyterprodblobs.blob.core.windows.net/imagecontainer/common/play_video.png)]( http://edxinteractivepage.blob.core.windows.net/edxpages/f7cff1a7-5601-48a1-95a6-fd1fdfabd20e.html?details=[{\"src\":\"http://jupyternootbookwams.streaming.mediaservices.windows.net/809d6b2c-1be9-4bea-8702-9eb328b9f551/Unit2_Section4.3c-Remove_Whitespace.ism/manifest\",\"type\":\"application/vnd.ms-sstr+xml\"}],[{\"src\":\"http://jupyternootbookwams.streaming.mediaservices.windows.net/809d6b2c-1be9-4bea-8702-9eb328b9f551/Unit2_Section4.3c-Remove_Whitespace.vtt\",\"srclang\":\"en\",\"kind\":\"subtitles\",\"label\":\"english\"}])\n### .strip() whitespace\n```python\npoem_line = poem1.readline().strip()\n```\n**.strip()** removes leading and trailing whitespace, including the '\\n' formatting character"
    },
    {
      "metadata": {},
      "cell_type": "markdown",
      "source": "# &nbsp;\n<font size=\"6\" color=\"#00A0B2\"  face=\"verdana\"> <B>Examples</B></font>"
    },
    {
      "metadata": {
        "trusted": true
      },
      "cell_type": "code",
      "source": "# [ ] review and run example\n# open address to file\npoem1 = open('poem1.txt', 'r')\n",
      "execution_count": null,
      "outputs": []
    },
    {
      "metadata": {
        "trusted": true
      },
      "cell_type": "code",
      "source": "# [ ] review and run example - readline while loop without removing '\\n'\npoem_line = poem1.readline()\n\nwhile poem_line:\n    print(poem_line)\n    poem_line = poem1.readline()\n\npoem1.close()",
      "execution_count": null,
      "outputs": []
    },
    {
      "metadata": {},
      "cell_type": "markdown",
      "source": "### now with `.strip()` to remove leading and trailing whitespace characters"
    },
    {
      "metadata": {
        "trusted": true
      },
      "cell_type": "code",
      "source": "# [ ] review and run example - readline with .strip() to remove '\\n'\npoem1 = open('poem1.txt', 'r')\npoem_line = poem1.readline().strip()\n\nwhile poem_line:\n    print(poem_line)\n    poem_line = poem1.readline().strip()\n    \npoem1.close()",
      "execution_count": null,
      "outputs": []
    },
    {
      "metadata": {
        "collapsed": true
      },
      "cell_type": "markdown",
      "source": "# &nbsp;\n<font size=\"6\" color=\"#B24C00\"  face=\"verdana\"> <B>Task 3</B></font>  \n## `.readline()`  with `.strip()` rainbow colors\nassumes rainbow.tx has been imported in task 1  \n- open rainbow.txt as rainbow_file as read-only  \n- read a color from each line of rainbow_file in a while loop  \n  - use .strip to remove the whitespace  \n  - print each color upper case  \n- close rainbow_file "
    },
    {
      "metadata": {
        "trusted": true
      },
      "cell_type": "code",
      "source": "# [ ] open rainbow.txt as rainbow_text as read-only  \nrainbow_file=open('rainbow.txt','r')\n",
      "execution_count": null,
      "outputs": []
    },
    {
      "metadata": {
        "trusted": true
      },
      "cell_type": "code",
      "source": "# [ ] read a color from each line of rainbow_text in a while loop \ncolor=rainbow_file.readline().strip()\n\n# use .strip to remove the whitespace '\\n' character \nwhile color:\n    color=rainbow_file.readline().strip('\\n')\n# print each color upper case \n    print(color)\n",
      "execution_count": null,
      "outputs": []
    },
    {
      "metadata": {
        "collapsed": true
      },
      "cell_type": "markdown",
      "source": "# &nbsp;\n<font size=\"6\" color=\"#00A0B2\"  face=\"verdana\"> <B>Concepts</B></font>  \n\n## `.strip()` with arguments\n[![view video](https://iajupyterprodblobs.blob.core.windows.net/imagecontainer/common/play_video.png)]( http://edxinteractivepage.blob.core.windows.net/edxpages/f7cff1a7-5601-48a1-95a6-fd1fdfabd20e.html?details=[{\"src\":\"http://jupyternootbookwams.streaming.mediaservices.windows.net/98672edd-b2c5-4478-aaec-42154a5b97c8/Unit2_Section4.3d-Strip_Arguments.ism/manifest\",\"type\":\"application/vnd.ms-sstr+xml\"}],[{\"src\":\"http://jupyternootbookwams.streaming.mediaservices.windows.net/98672edd-b2c5-4478-aaec-42154a5b97c8/Unit2_Section4.3d-Strip_Arguments.vtt\",\"srclang\":\"en\",\"kind\":\"subtitles\",\"label\":\"english\"}])\n### .strip() arguments\n```python\ncolor = rainbow_messy.readline().strip('*\\n*')\n```\n**`.strip('*\\n')`** removes leading and trailing **`*`** and **\\n**"
    },
    {
      "metadata": {},
      "cell_type": "markdown",
      "source": "### &nbsp;\n<font size=\"6\" color=\"#00A0B2\"  face=\"verdana\"> <B>Examples</B></font>"
    },
    {
      "metadata": {
        "trusted": true
      },
      "cell_type": "code",
      "source": "# [ ] review and run example: import rainbow_messy.txt\n!curl https://raw.githubusercontent.com/MicrosoftLearning/intropython/master/rainbow_messy -o rainbow_messy.txt",
      "execution_count": 3,
      "outputs": [
        {
          "output_type": "stream",
          "text": "  % Total    % Received % Xferd  Average Speed   Time    Time     Time  Current\n                                 Dload  Upload   Total   Spent    Left  Speed\n100    71  100    71    0     0    531      0 --:--:-- --:--:-- --:--:--   550\n",
          "name": "stdout"
        }
      ]
    },
    {
      "metadata": {
        "trusted": true
      },
      "cell_type": "code",
      "source": "# [ ] review and run example: open file read only\nrainbow_messy = open('rainbow_messy.txt', 'r')",
      "execution_count": 4,
      "outputs": []
    },
    {
      "metadata": {
        "trusted": true
      },
      "cell_type": "code",
      "source": "# [ ] review and run example: .readline() without .strip()\n\ncolor = rainbow_messy.readline()\n\nwhile color:\n    print(color)\n    color = rainbow_messy.readline()",
      "execution_count": 5,
      "outputs": [
        {
          "output_type": "stream",
          "text": "**red**\n\n**orange**\n\n**yellow**\n\n**green**\n\n**blue**\n\n**indigo**\n\n**violet**\n\n",
          "name": "stdout"
        }
      ]
    },
    {
      "metadata": {
        "trusted": true
      },
      "cell_type": "code",
      "source": "# [ ] review and run example: strip \"*\" and newline ('\\n')\nrainbow_messy = open('rainbow_messy.txt', 'r')\n\ncolor = rainbow_messy.readline().strip('*\\n')\n\nwhile color:\n    print(color)\n    color = rainbow_messy.readline().strip('*\\n')\n\nrainbow_messy.close()",
      "execution_count": 6,
      "outputs": [
        {
          "output_type": "stream",
          "text": "red\norange\nyellow\ngreen\nblue\nindigo\nviolet\n",
          "name": "stdout"
        }
      ]
    },
    {
      "metadata": {
        "collapsed": true
      },
      "cell_type": "markdown",
      "source": "# &nbsp;\n<font size=\"6\" color=\"#B24C00\"  face=\"verdana\"> <B>Task 4</B></font>  \n## `.strip()` with arguments\n- run import of cities_messy.txt below at least once this notebook session\n- run open cities_messy.txt below before each test of the while loop cell\n- edit while loop to strip the colon ':' , newline and spaces\n- close cities_messy"
    },
    {
      "metadata": {
        "trusted": true,
        "scrolled": true
      },
      "cell_type": "code",
      "source": "# [ ] import the file\n!curl https://raw.githubusercontent.com/MicrosoftLearning/intropython/master/cities_messy -o cities_messy.txt",
      "execution_count": 43,
      "outputs": [
        {
          "output_type": "stream",
          "text": "  % Total    % Received % Xferd  Average Speed   Time    Time     Time  Current\n                                 Dload  Upload   Total   Spent    Left  Speed\n100    77  100    77    0     0    408      0 --:--:-- --:--:-- --:--:--   413\n",
          "name": "stdout"
        }
      ]
    },
    {
      "metadata": {
        "trusted": true
      },
      "cell_type": "code",
      "source": "# [ ] run to read the file into memory\ncities_messy = open('cities_messy.txt', 'r')\n",
      "execution_count": 44,
      "outputs": []
    },
    {
      "metadata": {
        "trusted": true
      },
      "cell_type": "code",
      "source": "# [ ] edit the code to remove leading or trailing colon, newline and space characters\nline = cities_messy.readline().strip(' :\\n')\n\nwhile line:\n    print(line)\n    line = cities_messy.readline().strip(' :\\n')\ncities_messy.close()",
      "execution_count": 45,
      "outputs": [
        {
          "output_type": "stream",
          "text": "Beijing\nCairo\nLondon\nNairobi\nNew York City\nSydney\nTokyo\n",
          "name": "stdout"
        }
      ]
    },
    {
      "metadata": {},
      "cell_type": "markdown",
      "source": "# &nbsp;\n<font size=\"6\" color=\"#B24C00\"  face=\"verdana\"> <B>Task 5</B></font>  \n## `.strip()` parentheses from poem2_messy\n\n- import https://raw.githubusercontent.com/MicrosoftLearning/intropython/master/poem2_messy as poem2_messy.txt  \n- open poem2_messy.txt as poem2_messy in read mode  \n- edit while loop to strip the leading and trailing parentheses & print the poem without blank lines  \n- close poem2_messy"
    },
    {
      "metadata": {
        "trusted": true
      },
      "cell_type": "code",
      "source": "# [ ] import https://raw.githubusercontent.com/MicrosoftLearning/intropython/master/poem2_messy as poem2_messy.txt  \n!curl https://raw.githubusercontent.com/MicrosoftLearning/intropython/master/poem2_messy -o poem2_messy.txt\n",
      "execution_count": 69,
      "outputs": [
        {
          "output_type": "stream",
          "text": "  % Total    % Received % Xferd  Average Speed   Time    Time     Time  Current\n                                 Dload  Upload   Total   Spent    Left  Speed\n100    75  100    75    0     0    255      0 --:--:-- --:--:-- --:--:--   264\n",
          "name": "stdout"
        }
      ]
    },
    {
      "metadata": {
        "trusted": true
      },
      "cell_type": "code",
      "source": "# [ ] open poem2_messy.txt as poem2_messy in read mode\npoem2_messy=open('poem2_messy.txt','r')\n",
      "execution_count": 70,
      "outputs": []
    },
    {
      "metadata": {
        "trusted": true
      },
      "cell_type": "code",
      "source": "# [ ] edit while loop to strip the leading and trailing parentheses, and newlines\n# [ ] print the poem \nline = poem2_messy.readline().strip('()\\n()')\n\nwhile line:\n    print(line)\n    line = poem2_messy.readline().strip('()\\n()')\n\npoem2_messy.close()",
      "execution_count": 71,
      "outputs": [
        {
          "output_type": "stream",
          "text": "while True\nI loop\nTrue\nloop\nTrue\nloop\nnot True\nFalse\nend\n",
          "name": "stdout"
        }
      ]
    },
    {
      "metadata": {
        "collapsed": true
      },
      "cell_type": "markdown",
      "source": "[Terms of use](http://go.microsoft.com/fwlink/?LinkID=206977) &nbsp; [Privacy & cookies](https://go.microsoft.com/fwlink/?LinkId=521839) &nbsp; © 2017 Microsoft"
    }
  ],
  "metadata": {
    "anaconda-cloud": {},
    "kernelspec": {
      "name": "python3",
      "display_name": "Python 3",
      "language": "python"
    },
    "language_info": {
      "mimetype": "text/x-python",
      "nbconvert_exporter": "python",
      "name": "python",
      "pygments_lexer": "ipython3",
      "version": "3.5.4",
      "file_extension": ".py",
      "codemirror_mode": {
        "version": 3,
        "name": "ipython"
      }
    }
  },
  "nbformat": 4,
  "nbformat_minor": 1
}